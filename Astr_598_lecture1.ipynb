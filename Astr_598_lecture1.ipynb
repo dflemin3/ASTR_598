{
 "cells": [
  {
   "cell_type": "markdown",
   "metadata": {},
   "source": [
    "# David Fleming Astr 598 Lecture 1\n",
    "---\n",
    "Topics in theoretical astrophysics"
   ]
  },
  {
   "cell_type": "code",
   "execution_count": 52,
   "metadata": {
    "collapsed": false
   },
   "outputs": [],
   "source": [
    "%matplotlib inline\n",
    "\n",
    "# to be python 3 compatitible\n",
    "from __future__ import print_function, division\n",
    "\n",
    "import matplotlib.pylab as plt\n",
    "import numpy as np\n",
    "\n",
    "#Typical plot parameters that make for pretty plots\n",
    "plt.rcParams['figure.figsize'] = (10,8)\n",
    "from astroML.plotting import setup_text_plots\n",
    "setup_text_plots(fontsize=20, usetex=True)\n",
    "\n",
    "plt.rc('font', **{'family': 'serif', 'serif': ['Computer Modern']})\n",
    "plt.rcParams['font.size'] = 20.0"
   ]
  },
  {
   "cell_type": "markdown",
   "metadata": {},
   "source": [
    "# Basic hyak commands\n",
    "---\n",
    "* login: username@hyak.washington.edu (pwd prompt, then etrust token code)\n",
    "\n",
    "* submit a job using: qsub\n",
    "\n",
    "* interactive (-I command): qsub -I -l walltime=hr:min:sec (for your default group, STF for me)\n",
    "\n",
    "* internet on login nodes, not compute nodes\n",
    "\n",
    "* in interactive mode:\n",
    "    * modules\n",
    "        * module avail (see what modules you can load, like git, compilers, python dist, etc)\n",
    "        * module load (module name, good for loading things like python dist...puts into your path)\n",
    "        * module unload (obvious use)\n",
    "        * module list (see what you have loaded)\n",
    "        \n",
    "* storage on hyak\n",
    "    * /gscratch/stf/username/\n",
    "    * if untouched for 30 days, gets scrubbed (deleted) in this dir tree\n",
    "    * archive on lolo\n",
    "        * /lolo/archive/hyak/stf/username where stf is any groupname you have permissions with \n",
    "        * tar files on lolo! need ~ 1 Gb file size for it to be efficient, you'll get yelled at otherwise"
   ]
  },
  {
   "cell_type": "markdown",
   "metadata": {},
   "source": [
    "# Sample/intro code\n",
    "---\n",
    "Classes, methods, static methods"
   ]
  },
  {
   "cell_type": "code",
   "execution_count": 67,
   "metadata": {
    "collapsed": false
   },
   "outputs": [],
   "source": [
    "# file mymath.py\n",
    "class Complex:\n",
    "    \"\"\"\n",
    "    Python class for a complex number with a real\n",
    "    and imaginary component that defaults to (0.0,0.0)\n",
    "    \"\"\"\n",
    "    def __init__(self, r = 0.0, i = 0.0):\n",
    "        self.real = r\n",
    "        self.imag = i\n",
    "        \n",
    "    def __repr__(self):\n",
    "        # what it looks like when I call print(obj)\n",
    "        return \"(%lf + %lfi)\" % (self.real, self.imag)\n",
    "        \n",
    "    def conjugate(self):\n",
    "        # Complex conjugate\n",
    "        self.imag = -self.imag\n",
    "        return self\n",
    "        \n",
    "    @staticmethod\n",
    "    # Tell python this method doesn't have a \"self\"\n",
    "    # Allows you to load like module.Class.staticmethod(args)\n",
    "    def add(x, y):\n",
    "        z = Complex(x.real + y.real, x.imag + y.imag)\n",
    "        return z\n"
   ]
  },
  {
   "cell_type": "markdown",
   "metadata": {},
   "source": [
    "# Test the code out\n",
    "---\n",
    "Note: python assigments, a=d, a += 1, would do d += 1 as well since it's pointer-like in that d refers to the same area chuck of a.  need to do a deep copy to make it a new chunk of memory"
   ]
  },
  {
   "cell_type": "code",
   "execution_count": 70,
   "metadata": {
    "collapsed": false
   },
   "outputs": [
    {
     "name": "stdout",
     "output_type": "stream",
     "text": [
      "Add\n",
      "(4.000000 + 6.000000i)\n",
      "\n",
      "Conjugate\n",
      "(1.000000 + 2.000000i)\n",
      "(1.000000 + -2.000000i)\n",
      "(1.000000 + -2.000000i) (1.000000 + -2.000000i)\n"
     ]
    }
   ],
   "source": [
    "# Assume some import like from mymath.py import Complex\n",
    "a = Complex(1.0, 2.0)\n",
    "b = Complex(3.0,4.0)\n",
    "\n",
    "print(\"Add\")\n",
    "c = Complex.add(a,b)\n",
    "print(c)\n",
    "\n",
    "print()\n",
    "print(\"Conjugate\")\n",
    "print(a)\n",
    "d = a\n",
    "f = a.conjugate()\n",
    "print(a)\n",
    "print(d, f)\n"
   ]
  },
  {
   "cell_type": "code",
   "execution_count": null,
   "metadata": {
    "collapsed": true
   },
   "outputs": [],
   "source": []
  },
  {
   "cell_type": "code",
   "execution_count": null,
   "metadata": {
    "collapsed": true
   },
   "outputs": [],
   "source": []
  },
  {
   "cell_type": "markdown",
   "metadata": {},
   "source": [
    "# HW 1 scratch work\n",
    "---"
   ]
  },
  {
   "cell_type": "code",
   "execution_count": 58,
   "metadata": {
    "collapsed": false
   },
   "outputs": [],
   "source": [
    "class Position(object):\n",
    "    \"\"\"\n",
    "    Class for 3D cartersian position\n",
    "    default units in meters\n",
    "    \"\"\"\n",
    "    def __init__(self, x = 0.0, y = 0.0, z = 0.0):\n",
    "        self.x = x\n",
    "        self.y = y\n",
    "        self.z = z\n",
    "    def __repr__(self):\n",
    "        return (\"(%lf,%lf,%lf)\" % (self.x,self.y,self.z))\n",
    "    \n",
    "        \n",
    "class Velocity(object):\n",
    "    \"\"\"\n",
    "    Class for 3D cartesian velocity\n",
    "    default units in m/s\n",
    "    \"\"\"\n",
    "    def __init__(self, vx = 0.0, vy = 0.0, vz = 0.0):\n",
    "        self.vx = vx\n",
    "        self.vy = vy\n",
    "        self.vz = vy\n",
    "    def __repr__(self):\n",
    "        # Function to print self\n",
    "        return (\"(%lf,%lf,%lf)\" % (self.vx,self.vy,self.vz))\n",
    "        \n",
    "class Particle(object):\n",
    "    \"\"\"\n",
    "    class for a particle that has a mass, Position, and\n",
    "    Velocity\n",
    "    \"\"\"\n",
    "    def __init__(self, mass = 1.0, pos = Position(), vel = Velocity()):\n",
    "        self.mass = mass # in kg\n",
    "        self.pos = pos # in m\n",
    "        self.vel = vel # in m/s\n",
    "        \n",
    "    @staticmethod\n",
    "    def force(p1, p2):\n",
    "        \"\"\"\n",
    "        Compute the gravitational force between two particles\n",
    "        using Newton's inverse square law where p1, p2 are\n",
    "        Particle class objects\n",
    "        \"\"\"\n",
    "        G = 6.67408e-11 # Universal gravitational constant in mks\n",
    "        r_squared = (p1.pos.x - p2.pos.x)**2. + (p1.pos.y - p2.pos.y)**2. + (p1.pos.z - p2.pos.z)**2.\n",
    "        \n",
    "        # If particles are on top of each other\n",
    "        if r_squared == 0.0:\n",
    "            return np.inf\n",
    "        \n",
    "        return G*p1.mass*p2.mass/r_squared"
   ]
  },
  {
   "cell_type": "code",
   "execution_count": 74,
   "metadata": {
    "collapsed": false
   },
   "outputs": [
    {
     "name": "stdout",
     "output_type": "stream",
     "text": [
      "1.66852e-11 N\n"
     ]
    }
   ],
   "source": [
    "# Test out my classes\n",
    "p1 = Particle(1.0,Position(1,2,3),Velocity(1,2,3))\n",
    "p2 = Particle(2.0,Position(3,2,1),Velocity(3,2,1))\n",
    "\n",
    "print(Particle.force(p1,p2),\"N\")"
   ]
  }
 ],
 "metadata": {
  "kernelspec": {
   "display_name": "Python 2",
   "language": "python",
   "name": "python2"
  },
  "language_info": {
   "codemirror_mode": {
    "name": "ipython",
    "version": 2
   },
   "file_extension": ".py",
   "mimetype": "text/x-python",
   "name": "python",
   "nbconvert_exporter": "python",
   "pygments_lexer": "ipython2",
   "version": "2.7.11"
  }
 },
 "nbformat": 4,
 "nbformat_minor": 0
}
