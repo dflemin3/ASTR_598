{
 "cells": [
  {
   "cell_type": "markdown",
   "metadata": {},
   "source": [
    "# David Fleming, ASTR 598 Jan. 22, 2016\n",
    "# Stacks (on stacks) and a bit of Queues\n",
    "Notes and code for Stacks implimented as a linked list and as an array.\n",
    "\n",
    "Core stack concept: Last in, first out (LIFO) == insert at head, remove at head"
   ]
  },
  {
   "cell_type": "code",
   "execution_count": 1,
   "metadata": {
    "collapsed": true
   },
   "outputs": [],
   "source": [
    "%matplotlib inline\n",
    "\n",
    "# to be python 3 compatitible\n",
    "from __future__ import print_function, division\n",
    "\n",
    "import matplotlib.pylab as plt\n",
    "import numpy as np\n",
    "\n",
    "#Typical plot parameters that make for pretty plots\n",
    "plt.rcParams['figure.figsize'] = (10,8)\n",
    "from astroML.plotting import setup_text_plots\n",
    "setup_text_plots(fontsize=20, usetex=True)\n",
    "\n",
    "plt.rc('font', **{'family': 'serif', 'serif': ['Computer Modern']})\n",
    "plt.rcParams['font.size'] = 20.0"
   ]
  },
  {
   "cell_type": "markdown",
   "metadata": {},
   "source": [
    "* General Notes: \n",
    "    * qsub -I -q build (if you belong to a heavy-use queue and need a bit of time to test python code)\n",
    "    * wiki.hyak.uw.edu for hyak wiki\n",
    "\n",
    "* Data structures, algorithms\n",
    "    * Data struture: way to organize your data\n",
    "        * Linked list, array, etc\n",
    "    * Algorithm : How you operate on your data structures \n",
    "        * Sorting arrays (merge sort quick sort, heap sort, selection sort)\n",
    "        * Efficiency (O(n^p)) is important...specifically asymptotic behavior (N->huge)\n",
    "            * Ex: merge sort is O(NlogN), selection sort is O(N^2)\n",
    "    * ADT: Abstract Data Type\n",
    "        * Good to limit scope of object... specific tool for specific job\n",
    "        * API (Application Programming Interface): behavior for each object, don't care how its implimented\n",
    "        \n",
    "* Stacks\n",
    "    * void push(int i)\n",
    "        * put i on the top of stack\n",
    "    * int pop(int i)\n",
    "            \n",
    "    * Ex: bottom [][][][][][][] top\n",
    "        * push(10), push(2)\n",
    "        * bottom [10][20][][][][][] top\n",
    "        * x = pop()\n",
    "        * x = 20\n",
    "        * bottom [10][][][][][][] top\n",
    "    * size() gives # of elements in stack\n",
    "    * top() returns top value without removing it\n",
    "    * isEmpty() tells if stack has nothing\n",
    "    * Can be implimented as a linked list or an array\n",
    "    \n",
    "* Stack example: see if (,) are balanced (like in text editors)\n",
    "    * (()(())) -> push to the stack subject to the code for each character c\n",
    "        * if(c == \")\"): stack.pop()\n",
    "    * [(][(], encounted a \")\", then pop to get [(]\n",
    "    * Continue throug string and check isEmpty at end.  If True, (,) are balanced!\n",
    "    "
   ]
  },
  {
   "cell_type": "code",
   "execution_count": 7,
   "metadata": {
    "collapsed": true
   },
   "outputs": [],
   "source": [
    "class Node(object):\n",
    "    def __init__(self, data = None, nxt = None):\n",
    "        self.data = data # Node's data\n",
    "        self.nxt = nxt # Node this Node points to"
   ]
  },
  {
   "cell_type": "code",
   "execution_count": 79,
   "metadata": {
    "collapsed": true
   },
   "outputs": [],
   "source": [
    "class Stack(object):\n",
    "    def __init__(self, head = None, N = 0):\n",
    "        self.head = head # Head node [Node]\n",
    "        self.N = N # size of Stack [int]  \n",
    "    \n",
    "    def isEmpty(self):\n",
    "        if self.N == 0:\n",
    "            return True\n",
    "        else:\n",
    "            return False\n",
    "        \n",
    "    def size(self):\n",
    "        return self.N\n",
    "        \n",
    "    # Like insert at head for linked list\n",
    "    def push(self,value = None):\n",
    "        new_top = Node(data=value,nxt=None)\n",
    "        new_top.nxt = self.head\n",
    "        self.head = new_top\n",
    "        \n",
    "        # Increase size of stack\n",
    "        self.N = self.N + 1\n",
    "        \n",
    "    # Remove, return value at head\n",
    "    def pop(self):\n",
    "        # Make sure Stack isn't empty\n",
    "        if self.head == None or self.N == 0:\n",
    "            print(\"Pop: Empty stack.\")\n",
    "            return None\n",
    "        else:\n",
    "            ret = self.head.data\n",
    "\n",
    "            # Get rid of old head, trust python for memory management\n",
    "            self.head = self.head.nxt\n",
    "\n",
    "            # Decrease size\n",
    "            self.N = self.N - 1\n",
    "\n",
    "            # Return old head's contents\n",
    "            return ret\n",
    "        \n",
    "    # Same as pop, but don't remove the head\n",
    "    def top(self):\n",
    "        if self.head == None or self.N == 0:\n",
    "            print(\"Top: Empty stack.\")\n",
    "            return None\n",
    "        else:\n",
    "            return self.head.data\n",
    "        \n",
    "    # Print out the stack\n",
    "    def __repr__(self):\n",
    "        # Case: empty stack\n",
    "        if self.head == None or self.N == 0:\n",
    "            return \"Empty stack.\"\n",
    "        \n",
    "        word = 'top '\n",
    "        n = self.head\n",
    "        while(n.nxt != None):\n",
    "            word += (str(n.data) + ' ')\n",
    "            n = n.nxt\n",
    "            \n",
    "            # Next one is end: special case\n",
    "            if n.nxt == None:\n",
    "                word += (str(n.data) + ' ') \n",
    "                break\n",
    "                \n",
    "        return word + 'bottom'"
   ]
  },
  {
   "cell_type": "code",
   "execution_count": 86,
   "metadata": {
    "collapsed": false
   },
   "outputs": [
    {
     "name": "stdout",
     "output_type": "stream",
     "text": [
      "0\n",
      "1\n",
      "2\n",
      "3\n",
      "4\n",
      "5\n",
      "6\n",
      "7\n",
      "8\n",
      "9\n"
     ]
    }
   ],
   "source": [
    "test = Stack()\n",
    "\n",
    "for i in range(0,10):\n",
    "    print(i)\n",
    "    test.push(i)"
   ]
  },
  {
   "cell_type": "code",
   "execution_count": 81,
   "metadata": {
    "collapsed": false
   },
   "outputs": [
    {
     "name": "stdout",
     "output_type": "stream",
     "text": [
      "top 9 8 7 6 5 4 3 2 1 0 bottom\n",
      "10\n"
     ]
    }
   ],
   "source": [
    "print(test)\n",
    "print(test.N)"
   ]
  },
  {
   "cell_type": "code",
   "execution_count": 82,
   "metadata": {
    "collapsed": false
   },
   "outputs": [
    {
     "name": "stdout",
     "output_type": "stream",
     "text": [
      "9\n",
      "8\n",
      "7\n",
      "6\n",
      "5\n",
      "4\n",
      "3\n",
      "2\n",
      "1\n",
      "0\n"
     ]
    }
   ],
   "source": [
    "s_n = test.N\n",
    "for i in range(0,s_n):\n",
    "    print(test.pop())"
   ]
  },
  {
   "cell_type": "code",
   "execution_count": 83,
   "metadata": {
    "collapsed": false
   },
   "outputs": [
    {
     "name": "stdout",
     "output_type": "stream",
     "text": [
      "Empty stack.\n",
      "True\n"
     ]
    }
   ],
   "source": [
    "print(test)\n",
    "print(test.isEmpty())"
   ]
  },
  {
   "cell_type": "markdown",
   "metadata": {},
   "source": [
    "# Below, impliment Stack using arrays (call AStack for brevity)"
   ]
  },
  {
   "cell_type": "code",
   "execution_count": 88,
   "metadata": {
    "collapsed": true
   },
   "outputs": [],
   "source": [
    "def AStack():\n",
    "    def __init__(self, head = None, N = 0, top = -1, MAX_ELEMENTS = 10):\n",
    "        self.head = head\n",
    "        self.N = N\n",
    "        self.top = top\n",
    "        self.MAX_ELEMENTS = MAX_ELEMENTS\n",
    "        self.a = np.zeros(self.MAX_ELEMENTS)\n",
    "        \n",
    "    def push(self, data):\n",
    "        # Move top up\n",
    "        self.top = self.top + 1\n",
    "        \n",
    "        # At the end of the array?\n",
    "        if(self.top == self.MAX_ELEMENTS):\n",
    "            print(\"Array bounds exceeded.\")\n",
    "            return None\n",
    "        else:\n",
    "            # Add to top\n",
    "            self.a[self.top] = data\n",
    "\n",
    "            # Increment size\n",
    "            self.N = self.N + 1\n",
    "            \n",
    "    def pop(self):\n",
    "        # Bounds check\n",
    "        if(self.top == -1 or self.N == 0):\n",
    "            print(\"Pop error: Stack empty.\")\n",
    "            return None\n",
    "        else:\n",
    "            ret = self.a[self.top]\n",
    "            \n",
    "            # Decremenet top, size\n",
    "            self.top = self.top - 1\n",
    "            self.N = self.N - 1\n",
    "            \n",
    "            return ret\n",
    "        \n",
    "        \n",
    "    # etc, etc... like Stack Above"
   ]
  },
  {
   "cell_type": "markdown",
   "metadata": {},
   "source": [
    "# Queue implimentation:\n",
    "Like stack, but it's first in first out (FIFO).\n",
    "\n",
    "Insert at tail, remove at head"
   ]
  },
  {
   "cell_type": "code",
   "execution_count": 89,
   "metadata": {
    "collapsed": true
   },
   "outputs": [],
   "source": [
    "class Queue(object):\n",
    "    def __init__(self, head = None, tail = None, N = 0):\n",
    "        self.head = head\n",
    "        self.tail = tail\n",
    "        self.N = N\n",
    "     \n",
    "    def isEmpty(self):\n",
    "        if self.N == 0:\n",
    "            return True\n",
    "        else:\n",
    "            return False\n",
    "        \n",
    "    def size(self):\n",
    "        return self.N\n",
    "    \n",
    "    def put(self,value):\n",
    "        n = Node(data = value, nxt = None)\n",
    "        \n",
    "        # Case: empty Queue\n",
    "        if(self.head == None):\n",
    "            self.head = n\n",
    "            self.tail = n\n",
    "        # Case: 1 node\n",
    "        elif(self.head == self.tail):\n",
    "            self.head.nxt = n\n",
    "            self.tail = n\n",
    "        # Case: general\n",
    "        else:\n",
    "            self.tail.nxt = n\n",
    "            self.tail = n\n",
    "            \n",
    "        # Increment size\n",
    "        self.N = self.N + 1\n",
    "    \n",
    "    def get(self):\n",
    "        # Case: Empty Queue\n",
    "        if(self.head == None):\n",
    "            print(\"Get error: Empty Queue.\")\n",
    "            return None\n",
    "        else:\n",
    "            ret = self.head.data\n",
    "\n",
    "            # Set head to nxt, decrease size, return \n",
    "            self.head = self.head.nxt\n",
    "            self.N = self.N - 1\n",
    "            return ret\n",
    "        \n",
    "    # Like get, but does not remove head\n",
    "    def front(self):\n",
    "        # Case: Empty Queue\n",
    "        if(self.head == None):\n",
    "            print(\"Front error: Empty Queue.\")\n",
    "            return None\n",
    "        else:\n",
    "            ret = self.head.data\n",
    "            return ret\n"
   ]
  },
  {
   "cell_type": "code",
   "execution_count": null,
   "metadata": {
    "collapsed": true
   },
   "outputs": [],
   "source": []
  }
 ],
 "metadata": {
  "kernelspec": {
   "display_name": "Python 2",
   "language": "python",
   "name": "python2"
  },
  "language_info": {
   "codemirror_mode": {
    "name": "ipython",
    "version": 2
   },
   "file_extension": ".py",
   "mimetype": "text/x-python",
   "name": "python",
   "nbconvert_exporter": "python",
   "pygments_lexer": "ipython2",
   "version": "2.7.11"
  }
 },
 "nbformat": 4,
 "nbformat_minor": 0
}
