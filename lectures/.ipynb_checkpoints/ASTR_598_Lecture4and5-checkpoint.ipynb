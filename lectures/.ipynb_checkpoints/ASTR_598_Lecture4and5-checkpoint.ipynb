{
 "cells": [
  {
   "cell_type": "markdown",
   "metadata": {},
   "source": [
    "# David Fleming, ASTR 598, Jan. 29, 2016 and Feb. 5, 2016"
   ]
  },
  {
   "cell_type": "code",
   "execution_count": 1,
   "metadata": {
    "collapsed": true
   },
   "outputs": [],
   "source": [
    "# to be python 3 compatitible\n",
    "from __future__ import print_function, division\n",
    "\n",
    "import numpy as np\n",
    "import math"
   ]
  },
  {
   "cell_type": "markdown",
   "metadata": {},
   "source": [
    "# Notes\n",
    "* Binary Tree\n",
    "    * each node has 2 children, left and right  \n",
    "       \n",
    "               N\n",
    "              / \\\n",
    "             L   R            \n",
    "   \n",
    "   * left and right both have data, can point to their own left/right children, so on\n",
    "   * data can correspond to key | value pair, like UW ID and student name\n",
    "   * Complete Binary tree:\n",
    "       * Full until last level, at last level, only thing that's unoccupied/missing are RIGHT nodes at last level\n",
    "   * Full Binary tree:\n",
    "       * At each level, all nodes are occupied (with data)\n",
    "\n",
    "\n",
    "* Stack : Last in, first out (LIFO)\n",
    "* Queue: First in, first out (FIFO)\n",
    "\n",
    "\n",
    "* Priority Queue (an ADT)\n",
    "    * has a delMin() function that deletes the minimum value, returns it\n",
    "    * also has insert(value)\n",
    "\n",
    "\n",
    "* Binary Heap\n",
    "    * Binary Tree with certain requirements\n",
    "    * min Heap (can also have max Heap, just change inequality sign)\n",
    "        * Complete binary tree where each child data is GREATER than parent for given data value\n",
    "    * Can impliment Priority Queue as a Binary Heap since we know what the order is and can find\n",
    "      the minimum (the top value)\n",
    "    * But how do we insert properly (by keeping it complete)\n",
    "        * Add value to end of tree on left side, swapping child/parent pairs starting with new value\n",
    "          until min/max condition is met\n",
    "    * What happens when we delete minimum and keep it complete?\n",
    "        * Move last value we inserted up, then traverse through, reordering until min/max condition is met\n",
    "    * General functions (from wikipedia):\n",
    "        * Insert\n",
    "            * To add an element to a heap we must perform an up-heap operation (also known as bubble-up, percolate-up, sift-up, trickle-up, heapify-up, or cascade-up), by following this algorithm:\n",
    "\n",
    "                * Add the element to the bottom level of the heap.\n",
    "                * Compare the added element with its parent; if they are in the correct order, stop.\n",
    "                * If not, swap the element with its parent and return to the previous step.\n",
    "        * Extract\n",
    "            * The procedure for deleting the root from the heap (effectively extracting the maximum element in a max-heap or the minimum element in a min-heap) and restoring the properties is called down-heap (also known as bubble-down, percolate-down, sift-down, trickle down, heapify-down, cascade-down, and extract-min/max).\n",
    "\n",
    "                * Replace the root of the heap with the last element on the last level.\n",
    "                * Compare the new root with its children; if they are in the correct order, stop.\n",
    "                * If not, swap the element with one of its children and return to the previous step. (Swap with its smaller child in a min-heap and its larger child in a max-heap.)\n",
    "                \n",
    "      * Implimenting binary heap as an array\n",
    "          * [empty][20][75][43][84][90]... of length MAX (like 2^{n_levels})\n",
    "          * child nodes of parent with index i are at index 2*i and 2*i + 1\n",
    "          \n",
    "* Heap sort (O(NlogN))\n",
    "    * imagine using a heap to sort (hence name)\n",
    "    * first loop to build a complete tree, then loop pulling min/max from top\n",
    "        * good with an array heap since we know how many elements we need to sort\n",
    "    \n",
    "    "
   ]
  },
  {
   "cell_type": "markdown",
   "metadata": {},
   "source": [
    "# Example code"
   ]
  },
  {
   "cell_type": "code",
   "execution_count": 2,
   "metadata": {
    "collapsed": true
   },
   "outputs": [],
   "source": [
    "class Node(object):\n",
    "    def __init__(self,data,left,right):\n",
    "        self.data = data\n",
    "        self.left = left\n",
    "        self.right = right\n",
    "        # optional: self.parent = parent # but not efficient"
   ]
  },
  {
   "cell_type": "code",
   "execution_count": 5,
   "metadata": {
    "collapsed": false
   },
   "outputs": [],
   "source": [
    "class PriorityQueue(object):\n",
    "    # Implimented as a min heap\n",
    "    def __init__(self, a = None, N = 0, MAX = 100):\n",
    "        self.a = a # Array to hold data\n",
    "        self.N = N # Number of elements in priority queue\n",
    "        self.MAX = MAX # Maximum length\n",
    "        \n",
    "        # Init array if it doesn't exist\n",
    "        if a == None:\n",
    "            self.a = np.zeros(MAX+1)\n",
    "            \n",
    "    # Return minimum value, but don't delete it\n",
    "    def minimum(self):\n",
    "        if self.N > 0:\n",
    "            return self.a[1] # 0th element is ALWAYS empty (otherwise 2*i, 2*i + 1 convention fails)\n",
    "        else:\n",
    "            print(\"Minimum: Empty Priority Queue.\")\n",
    "            return None\n",
    "    \n",
    "    # Size of data structure\n",
    "    def size(self):\n",
    "        return self.N\n",
    "    \n",
    "    # Is it empty?\n",
    "    def isEmpty(self):\n",
    "        if self.size() == 0:\n",
    "            return True\n",
    "        else:\n",
    "            return False\n",
    "    \n",
    "    # Is it full?\n",
    "    def isFull(self):\n",
    "        if self.size() == self.MAX:\n",
    "            return True\n",
    "        else:\n",
    "            return False\n",
    "          \n",
    "    # Insert a value assuming tree is a heap tree\n",
    "    def insert(self,value):\n",
    "        tmp = 0.0\n",
    "        \n",
    "        # Do this if it's not full\n",
    "        if self.isFull():\n",
    "            print(\"Insert: Priority Queue is full.\")\n",
    "            return None\n",
    "        \n",
    "        # Increase size\n",
    "        self.N = self.N + 1\n",
    "        \n",
    "        # Do the insertion at empty space 1 beyond old N\n",
    "        self.a[self.N] = value\n",
    "        \n",
    "        # Loop until order is achieved\n",
    "        k = self.N\n",
    "        \n",
    "        # Start at bottom, run as long as you're not at root, \n",
    "        # and parent > child (opposite order of what we want)\n",
    "        # Use floor since python 3 removes interger division\n",
    "        while(k > 1 and self.a[math.floor(k/2)] > self.a[k]):\n",
    "            # Exchange parent with child\n",
    "            temp = self.a[math.floor(k/2)]\n",
    "            self.a[math.floor(k/2)] = self.a[k]\n",
    "            self.a[k] = temp\n",
    "            \n",
    "            # Decrease k to go up 1 level\n",
    "            k = math.floor(k/2)\n",
    "            \n",
    "    # Remove/return the minimum value from the top.\n",
    "    # Note: It requires fixing the tree since the root\n",
    "    # is empty.  What we do is put the last one on the top,\n",
    "    # Then iterate until order is achieved\n",
    "    def delMin(self):\n",
    "        \n",
    "        tmp = 0.0\n",
    "        j = 0\n",
    "        \n",
    "        if self.isEmpty():\n",
    "            print(\"Error: Empty Priority Queue.\")\n",
    "        \n",
    "        # Value to return later\n",
    "        minimum = self.a[1]\n",
    "        \n",
    "        # Put last value at top\n",
    "        self.a[1] = self.a[self.N]\n",
    "        self.N = 0\n",
    "        self.N = self.N - 1 # Move the end back\n",
    "        \n",
    "        # Swap with smallest child, repeat until properly ordered\n",
    "        k = 1 # Start loop at root, descend tree\n",
    "        while (2*k <= self.N): # <= since 2 children\n",
    "            # Note: Right child is 2k + 1, left child is 2k\n",
    "            # Also, if relies on short-circuit behavior\n",
    "            if((2*k == self.N) or self.a[2*k] < self.a[2*k +1]): # child is last one, or left less than right\n",
    "                j = 2*k # Lesser child or only child\n",
    "            else:\n",
    "                j = 2*k + 1 # Right child exists and is less than left child\n",
    "          \n",
    "            # See if heap has been ordered by checking if\n",
    "            # parent < child\n",
    "            if(self.a[k] > self.a[j]):\n",
    "                temp = self.a[k]\n",
    "                self.a[k] = self.a[j]\n",
    "                k = j\n",
    "            else:\n",
    "                # Binary heap condition satisfied\n",
    "                # aka parent < child\n",
    "                break\n",
    "        \n",
    "        return minimum"
   ]
  },
  {
   "cell_type": "markdown",
   "metadata": {
    "collapsed": true
   },
   "source": [
    "# Mergesort Notes:\n",
    "\n",
    "- Mergesort ( O(NlogN))\n",
    "    - divide and conquer\n",
    "    - break down data structure into parts like a binary tree, then combine two, repeat up the tree until done\n",
    "    - a recursive algorithm\n",
    "    - good for datasets that are so huge, you can't fit them into memory (external sort)\n",
    "    - easily parallizable (sort little arrays on different cores)\n",
    "    - For comparing 2 arrays, a and b, you compare values to insert into 3rd array, c\n",
    "        - When you pull value from b, let's say b[0] < a[0], insert b[0] into c[0] then \n",
    "          you only increment b so next comparison is a[0] vs b[1] and so on\n",
    "    - Arrays don't have to be same length so if len(a) < len(b) and you've gone through all\n",
    "      of a, just insert rest of b to c"
   ]
  },
  {
   "cell_type": "code",
   "execution_count": 97,
   "metadata": {
    "collapsed": false
   },
   "outputs": [],
   "source": [
    "def merge(a, b):\n",
    "    # Assume a and b are arrays for simplicity\n",
    "    # Not necissarily of the same length, w\n",
    "    c = np.zeros(len(a) + len(b))\n",
    "        \n",
    "    # Declare indices to iterate over arrays\n",
    "    k = 0\n",
    "    i = 0\n",
    "    j = 0\n",
    "    \n",
    "    # Case: both arrays are length 1\n",
    "    \n",
    "    # Compare a to b within each's respective bounds\n",
    "    while(i < len(a) and j < len(b)):\n",
    "        if(a[i] < b[j]):\n",
    "            print(\"!!\")\n",
    "            c[k] = a[i]\n",
    "            i += 1\n",
    "            k += 1\n",
    "        else: # Also takes care of a[i] == b[j] case\n",
    "            c[k] = b[j]\n",
    "            print(\"--\")\n",
    "            j += 1\n",
    "            k += 1\n",
    "        \n",
    "    # Only 1 of below whiles will run\n",
    "    while(i < len(a)):\n",
    "        c[k] = a[i]\n",
    "        i += 1\n",
    "        k += 1\n",
    "    \n",
    "    while(j < len(b)):\n",
    "        c[k] = b[j]\n",
    "        j += 1\n",
    "        k += 1\n",
    "    \n",
    "    return c"
   ]
  },
  {
   "cell_type": "code",
   "execution_count": 98,
   "metadata": {
    "collapsed": false
   },
   "outputs": [],
   "source": [
    "a = np.random.randn(3)\n",
    "a.sort()\n",
    "b = np.random.randn(4)\n",
    "b.sort()"
   ]
  },
  {
   "cell_type": "code",
   "execution_count": 99,
   "metadata": {
    "collapsed": false
   },
   "outputs": [
    {
     "name": "stdout",
     "output_type": "stream",
     "text": [
      "[ 0.41069118  0.76169354  1.52338836]\n"
     ]
    }
   ],
   "source": [
    "print(a)"
   ]
  },
  {
   "cell_type": "code",
   "execution_count": 100,
   "metadata": {
    "collapsed": false
   },
   "outputs": [
    {
     "name": "stdout",
     "output_type": "stream",
     "text": [
      "[-2.20399984 -0.03119917  0.54802892  0.66204851]\n"
     ]
    }
   ],
   "source": [
    "print(b)"
   ]
  },
  {
   "cell_type": "code",
   "execution_count": 101,
   "metadata": {
    "collapsed": false
   },
   "outputs": [
    {
     "name": "stdout",
     "output_type": "stream",
     "text": [
      "--\n",
      "--\n",
      "!!\n",
      "--\n",
      "--\n",
      "[-2.20399984 -0.03119917  0.41069118  0.54802892  0.66204851  0.76169354\n",
      "  1.52338836]\n"
     ]
    }
   ],
   "source": [
    "print(merge(a,b))"
   ]
  },
  {
   "cell_type": "code",
   "execution_count": null,
   "metadata": {
    "collapsed": true
   },
   "outputs": [],
   "source": []
  }
 ],
 "metadata": {
  "kernelspec": {
   "display_name": "Python 2",
   "language": "python",
   "name": "python2"
  },
  "language_info": {
   "codemirror_mode": {
    "name": "ipython",
    "version": 2
   },
   "file_extension": ".py",
   "mimetype": "text/x-python",
   "name": "python",
   "nbconvert_exporter": "python",
   "pygments_lexer": "ipython2",
   "version": "2.7.11"
  }
 },
 "nbformat": 4,
 "nbformat_minor": 0
}
